{
 "cells": [
  {
   "cell_type": "code",
   "execution_count": 32,
   "id": "8217e91c",
   "metadata": {},
   "outputs": [],
   "source": [
    "import jax\n",
    "from position2 import Position2\n",
    "from dataclasses import dataclass, field\n",
    "import numpy as np\n",
    "import matplotlib.pyplot as plt\n",
    "from math import *\n",
    "import scipy.interpolate\n",
    "import numpy as np\n",
    "import jax\n",
    "import jax.numpy as jnp\n",
    "import flax.linen as nn"
   ]
  },
  {
   "cell_type": "markdown",
   "id": "5be6d160",
   "metadata": {},
   "source": [
    "# Load SLAM data"
   ]
  },
  {
   "cell_type": "code",
   "execution_count": 2,
   "id": "edd18d1d",
   "metadata": {},
   "outputs": [],
   "source": [
    "# datafile = \"/media/mikhail/Data3T/slam_benchmark/intel.clf\"\n",
    "datafile = \"/home/mikhail/Downloads/intel.gfs(4).log\" # Corrected intel map"
   ]
  },
  {
   "cell_type": "code",
   "execution_count": 46,
   "id": "fb0077ae",
   "metadata": {},
   "outputs": [],
   "source": [
    "@dataclass(frozen=True)\n",
    "class LaserData(object):\n",
    "    ranges: np.array\n",
    "    angles: np.array\n",
    "    timestamp: float\n",
    "    odometry_position: Position2\n",
    "        \n",
    "    def as_points(self):\n",
    "        mask = self.ranges < 10\n",
    "        x = self.ranges[mask] * np.cos(self.angles[mask])\n",
    "        y = self.ranges[mask] * np.sin(self.angles[mask])\n",
    "        return np.stack([x, y], axis=1)\n",
    "\n",
    "    def as_points_in_odometry_frame(self):\n",
    "        points = self.as_points()\n",
    "        return self.odometry_position.apply(points)"
   ]
  },
  {
   "cell_type": "code",
   "execution_count": 44,
   "id": "c9fa7597",
   "metadata": {},
   "outputs": [],
   "source": [
    "laser_data_list = []\n",
    "with open(datafile, \"r\") as fd:\n",
    "    for line in fd.readlines():\n",
    "        line = line.strip()\n",
    "        tokens = line.split(' ')\n",
    "        if len(tokens) <= 180:\n",
    "            continue\n",
    "        num_scans = int(tokens[1])\n",
    "        ranges = np.array([float(r) for r in tokens[2:(num_scans + 2)]])\n",
    "        angles = np.linspace(-90.0 / 180.0 * np.pi, 90.0 / 180.0 * np.pi, num_scans + 1)[:-1]\n",
    "        timestamp = float(tokens[(num_scans + 8)])\n",
    "        odom_x, odom_y, odom_theta = [float(r) for r in tokens[(num_scans + 2):(num_scans + 5)]]\n",
    "        position = Position2(odom_x, odom_y, odom_theta)\n",
    "        laser_data_list.append(LaserData(ranges=ranges, angles=angles, timestamp=timestamp, odometry_position=\n",
    "                                        position))"
   ]
  },
  {
   "cell_type": "code",
   "execution_count": 5,
   "id": "cd0fae79",
   "metadata": {},
   "outputs": [
    {
     "data": {
      "image/png": "[encoded data removed]",
      "text/plain": [
       "<Figure size 1200x800 with 1 Axes>"
      ]
     },
     "metadata": {
      "needs_background": "light"
     },
     "output_type": "display_data"
    }
   ],
   "source": [
    "plt.figure(dpi=200)\n",
    "all_points = []\n",
    "for laser_data in laser_data_list[:1]:\n",
    "    all_points.append(laser_data.as_points_in_odometry_frame())\n",
    "points = np.concatenate(all_points, axis=0)\n",
    "plt.scatter(points[:, 0], points[:, 1], s=0.1)\n",
    "plt.gca().set_aspect('equal')"
   ]
  },
  {
   "cell_type": "markdown",
   "id": "e5fe4cc1",
   "metadata": {},
   "source": [
    "## Load ground truth"
   ]
  },
  {
   "cell_type": "code",
   "execution_count": 6,
   "id": "ef378141",
   "metadata": {},
   "outputs": [],
   "source": [
    "@dataclass\n",
    "class StampedTrajectory():\n",
    "    trajectory: Position2\n",
    "    times: np.array\n",
    "    \n",
    "    def interpolate(times):\n",
    "        result = scipy.interpolate.interp1d(self.times, self.trajectory, kind=\"linear\", axis=0, \n",
    "                                            fill_value=\"extrapolate\")(times)\n",
    "        return result"
   ]
  },
  {
   "cell_type": "markdown",
   "id": "f2b8c347",
   "metadata": {},
   "source": [
    "# Rendering"
   ]
  },
  {
   "cell_type": "code",
   "execution_count": 95,
   "id": "f60aafd7",
   "metadata": {},
   "outputs": [],
   "source": [
    "class NFModel(nn.Module):\n",
    "    mean: float\n",
    "    sigma: float\n",
    "\n",
    "    @nn.compact\n",
    "    def __call__(self, x):\n",
    "        x = (x - self.mean) / self.sigma\n",
    "        x = nn.Dense(256)(x)      \n",
    "        x = jnp.concatenate([jnp.sin(x[:, :128]), jnp.cos(x[:, 128:])], axis=1)\n",
    "        x1 = x\n",
    "        x1 = nn.Dense(128)(x1)\n",
    "        x1 = nn.relu(x1)\n",
    "        x1 = nn.Dense(128)(x1)\n",
    "        x1 = nn.relu(x1)\n",
    "        x1 = nn.Dense(128)(x1)\n",
    "        x1 = nn.relu(x1)\n",
    "        x = jnp.concatenate([x, x1], axis=-1)\n",
    "        x = nn.Dense(1)(x)\n",
    "        return x[:, 0]\n"
   ]
  },
  {
   "cell_type": "code",
   "execution_count": 96,
   "id": "1ea56d64",
   "metadata": {},
   "outputs": [],
   "source": [
    "def plot_model_heatmap(model, variables):\n",
    "    grid_x, grid_y = jnp.meshgrid(jnp.linspace(0, 3, 100), jnp.linspace(0, 3, 100))\n",
    "    grid = jnp.stack([grid_x, grid_y], axis=2).reshape(-1, 2)\n",
    "    obstacle_probabilites = jax.nn.softplus(model.apply(variables, grid))\n",
    "    obstacle_probabilites = np.array(obstacle_probabilites).reshape(100, 100)\n",
    "    grid = grid.reshape(100, 100, 2)\n",
    "    plt.gca().pcolormesh(grid[:, :, 0], grid[:, :, 1], obstacle_probabilites, cmap='RdBu', shading='auto')\n",
    "    plt.gca().set_aspect('equal')"
   ]
  },
  {
   "cell_type": "code",
   "execution_count": 97,
   "id": "92506953",
   "metadata": {},
   "outputs": [],
   "source": [
    "model = NFModel(0, 0.1)\n",
    "batch = jnp.ones([10, 2])\n",
    "variables = model.init(jax.random.PRNGKey(0), batch)\n",
    "output = model.apply(variables, batch)"
   ]
  },
  {
   "cell_type": "code",
   "execution_count": 98,
   "id": "af73f203",
   "metadata": {},
   "outputs": [
    {
     "data": {
      "image/png": "[encoded data removed]",
      "text/plain": [
       "<Figure size 1200x800 with 1 Axes>"
      ]
     },
     "metadata": {
      "needs_background": "light"
     },
     "output_type": "display_data"
    }
   ],
   "source": [
    "plt.figure(dpi=200)\n",
    "plot_model_heatmap(model, variables)"
   ]
  },
  {
   "cell_type": "code",
   "execution_count": 115,
   "id": "a08b882c",
   "metadata": {
    "scrolled": false
   },
   "outputs": [],
   "source": [
    "# def loss(variables, batch):\n",
    "#     return jnp.sum(model.apply(variables, batch))\n",
    "# print(jax.make_jaxpr(jax.grad(loss))(variables, batch))"
   ]
  },
  {
   "cell_type": "code",
   "execution_count": 156,
   "id": "72f9bd9d",
   "metadata": {},
   "outputs": [],
   "source": [
    "import functools\n",
    "import jax.random"
   ]
  },
  {
   "cell_type": "code",
   "execution_count": 50,
   "id": "b2533a20",
   "metadata": {},
   "outputs": [],
   "source": [
    "@dataclass(unsafe_hash=True)\n",
    "class ModelConfig(object):\n",
    "    minimal_depth: float\n",
    "    maximal_depth: float\n",
    "    bins_count: int\n",
    "    depth_delta: float = field(init=False)\n",
    "    def __post_init__(self):\n",
    "        self.depth_delta = (self.maximal_depth - self.minimal_depth) / self.bins_count"
   ]
  },
  {
   "cell_type": "code",
   "execution_count": 237,
   "id": "c8c8ff75",
   "metadata": {},
   "outputs": [],
   "source": [
    "@jax.jit\n",
    "def calculate_weights(densities, depth_deltas):\n",
    "    mis_probability = jnp.exp(-densities * depth_deltas)\n",
    "    hit_probability = 1 - mis_probability\n",
    "    mis_probability = jnp.concatenate([jnp.ones(1), mis_probability])\n",
    "    hit_probability = jnp.concatenate([hit_probability, jnp.ones(1)])\n",
    "    cumproduct = jnp.cumprod(mis_probability)\n",
    "    weights = cumproduct * hit_probability\n",
    "    return weights\n",
    "\n",
    "@functools.partial(jax.jit, static_argnums=1)\n",
    "def sample_depth_bins(uniform, parameters):\n",
    "    depths = jnp.linspace(parameters.minimal_depth, parameters.maximal_depth, parameters.bins_count + 1)[:-1]\n",
    "    depths = depths + parameters.depth_delta * uniform\n",
    "    return jnp.concatenate([jnp.full([depths.shape[0], 1], parameters.minimal_depth), \n",
    "                            depths, \n",
    "                            jnp.full([depths.shape[0], 1], parameters.maximal_depth)], axis=-1)\n",
    "\n",
    "@jax.jit\n",
    "def transform_points(points, x, y, angle):\n",
    "    transformed_x = x + points[..., 0] * jnp.cos(angle) - points[..., 1] * jnp.sin(angle)\n",
    "    transformed_y = x + points[..., 0] * jnp.sin(angle) + points[..., 1] * jnp.cos(angle)\n",
    "    return jnp.stack([transformed_x, transformed_y], axis=-1)\n",
    "\n",
    "\n",
    "def calculate_points(depths, angles):\n",
    "    x = depths * jnp.cos(angles[..., None])\n",
    "    y = depths * jnp.sin(angles[..., None])\n",
    "    return jnp.stack([x, y], axis=-1)\n",
    "    \n",
    "@functools.partial(jax.jit, static_argnums=7)\n",
    "def loss(variables, truth_depths, angles, uniform, x, y, angle, config):\n",
    "    depth_bins = sample_depth_bins(uniform, config)\n",
    "    depths = (depth_bins[..., 1:] + depth_bins[..., :-1]) / 2\n",
    "    depth_deltas = (depth_bins[..., 1:] - depth_bins[..., :-1]) / 2\n",
    "    points = calculate_points(depths, angles).reshape(-1, 2)\n",
    "    print(depths.shape)\n",
    "    densities = jax.nn.softplus(model.apply(variables, points)).reshape(depths.shape[:2])\n",
    "    weights = jax.vmap(calculate_weights)(densities, depth_deltas)\n",
    "    extended_depths = jnp.concatenate([depths, jnp.full([depths.shape[0], 1], config.maximal_depth)], axis=-1)\n",
    "    predicted_depths = jnp.sum(weights * extended_depths, axis=-1)\n",
    "    predicted_variance = jnp.sum(weights * (extended_depths - predicted_depths[..., None]) ** 2, axis=-1)\n",
    "    predicted_variance = np.array(predicted_variance, copy=True)\n",
    "    return (truth_depths - predicted_depths) ** 2 / predicted_variance\n",
    "    \n",
    "#     product = 1\n",
    "#     densities = torch.logsumexp(torch.cat([torch.zeros_like(densities)[None], densities[None]], dim=0), dim=0)\n",
    "    \n",
    "#     for i in range(len(depths)):\n",
    "#         if i < len(depths) - 1:\n",
    "#             depth_delta = depths[i + 1] - depths[i]\n",
    "#         else:\n",
    "#             depth_delta = self._default_depth - depths[i]\n",
    "#         hit_probability = 1 - torch.exp(-densities[i] * depth_delta)\n",
    "#         weights.append(hit_probability * product)\n",
    "#         product = product * (1 - hit_probability)\n",
    "#     weights.append(product)\n",
    "#     return torch.stack(weights, dim=0)"
   ]
  },
  {
   "cell_type": "code",
   "execution_count": 238,
   "id": "3933722a",
   "metadata": {},
   "outputs": [],
   "source": [
    "config = ModelConfig(\n",
    "    minimal_depth=1,\n",
    "    maximal_depth=4,\n",
    "    bins_count=5\n",
    ")"
   ]
  },
  {
   "cell_type": "code",
   "execution_count": 239,
   "id": "7ce04b28",
   "metadata": {},
   "outputs": [
    {
     "name": "stdout",
     "output_type": "stream",
     "text": [
      "(10, 6)\n"
     ]
    },
    {
     "ename": "TracerArrayConversionError",
     "evalue": "The numpy.ndarray conversion method __array__() was called on the JAX Tracer object Traced<ShapedArray(float32[10])>with<DynamicJaxprTrace(level=0/1)>\nWhile tracing the function loss at /tmp/ipykernel_2307776/2395805713.py:31 for jit, this concrete value was not available in Python because it depends on the values of the argument passed at flattened positions [0, 1, 2, 3, 4, 5, 6, 7, 8, 9, 11, 13].\nSee https://jax.readthedocs.io/en/latest/errors.html#jax.errors.TracerArrayConversionError",
     "output_type": "error",
     "traceback": [
      "\u001b[0;31m---------------------------------------------------------------------------\u001b[0m",
      "\u001b[0;31mTracerArrayConversionError\u001b[0m                Traceback (most recent call last)",
      "\u001b[0;32m/tmp/ipykernel_2307776/2817927044.py\u001b[0m in \u001b[0;36m<module>\u001b[0;34m\u001b[0m\n\u001b[0;32m----> 1\u001b[0;31m \u001b[0mloss\u001b[0m\u001b[0;34m(\u001b[0m\u001b[0mvariables\u001b[0m\u001b[0;34m,\u001b[0m \u001b[0mtruth_depths\u001b[0m\u001b[0;34m=\u001b[0m\u001b[0mjnp\u001b[0m\u001b[0;34m.\u001b[0m\u001b[0mones\u001b[0m\u001b[0;34m(\u001b[0m\u001b[0;36m10\u001b[0m\u001b[0;34m)\u001b[0m\u001b[0;34m,\u001b[0m \u001b[0mangles\u001b[0m\u001b[0;34m=\u001b[0m\u001b[0mjnp\u001b[0m\u001b[0;34m.\u001b[0m\u001b[0mones\u001b[0m\u001b[0;34m(\u001b[0m\u001b[0;36m10\u001b[0m\u001b[0;34m)\u001b[0m\u001b[0;34m,\u001b[0m \u001b[0muniform\u001b[0m\u001b[0;34m=\u001b[0m\u001b[0mjnp\u001b[0m\u001b[0;34m.\u001b[0m\u001b[0mones\u001b[0m\u001b[0;34m(\u001b[0m\u001b[0;34m[\u001b[0m\u001b[0;36m10\u001b[0m\u001b[0;34m,\u001b[0m \u001b[0;36m5\u001b[0m\u001b[0;34m]\u001b[0m\u001b[0;34m)\u001b[0m\u001b[0;34m,\u001b[0m \u001b[0mx\u001b[0m\u001b[0;34m=\u001b[0m\u001b[0mjnp\u001b[0m\u001b[0;34m.\u001b[0m\u001b[0mones\u001b[0m\u001b[0;34m(\u001b[0m\u001b[0;36m10\u001b[0m\u001b[0;34m)\u001b[0m\u001b[0;34m,\u001b[0m \u001b[0my\u001b[0m\u001b[0;34m=\u001b[0m\u001b[0mjnp\u001b[0m\u001b[0;34m.\u001b[0m\u001b[0mones\u001b[0m\u001b[0;34m(\u001b[0m\u001b[0;36m10\u001b[0m\u001b[0;34m)\u001b[0m\u001b[0;34m,\u001b[0m \u001b[0mangle\u001b[0m\u001b[0;34m=\u001b[0m\u001b[0mjnp\u001b[0m\u001b[0;34m.\u001b[0m\u001b[0mones\u001b[0m\u001b[0;34m(\u001b[0m\u001b[0;36m10\u001b[0m\u001b[0;34m)\u001b[0m\u001b[0;34m,\u001b[0m \u001b[0mconfig\u001b[0m\u001b[0;34m=\u001b[0m\u001b[0mconfig\u001b[0m\u001b[0;34m)\u001b[0m\u001b[0;34m\u001b[0m\u001b[0;34m\u001b[0m\u001b[0m\n\u001b[0m",
      "    \u001b[0;31m[... skipping hidden 14 frame]\u001b[0m\n",
      "\u001b[0;32m/tmp/ipykernel_2307776/2395805713.py\u001b[0m in \u001b[0;36mloss\u001b[0;34m(variables, truth_depths, angles, uniform, x, y, angle, config)\u001b[0m\n\u001b[1;32m     41\u001b[0m     \u001b[0mpredicted_depths\u001b[0m \u001b[0;34m=\u001b[0m \u001b[0mjnp\u001b[0m\u001b[0;34m.\u001b[0m\u001b[0msum\u001b[0m\u001b[0;34m(\u001b[0m\u001b[0mweights\u001b[0m \u001b[0;34m*\u001b[0m \u001b[0mextended_depths\u001b[0m\u001b[0;34m,\u001b[0m \u001b[0maxis\u001b[0m\u001b[0;34m=\u001b[0m\u001b[0;34m-\u001b[0m\u001b[0;36m1\u001b[0m\u001b[0;34m)\u001b[0m\u001b[0;34m\u001b[0m\u001b[0;34m\u001b[0m\u001b[0m\n\u001b[1;32m     42\u001b[0m     \u001b[0mpredicted_variance\u001b[0m \u001b[0;34m=\u001b[0m \u001b[0mjnp\u001b[0m\u001b[0;34m.\u001b[0m\u001b[0msum\u001b[0m\u001b[0;34m(\u001b[0m\u001b[0mweights\u001b[0m \u001b[0;34m*\u001b[0m \u001b[0;34m(\u001b[0m\u001b[0mextended_depths\u001b[0m \u001b[0;34m-\u001b[0m \u001b[0mpredicted_depths\u001b[0m\u001b[0;34m[\u001b[0m\u001b[0;34m...\u001b[0m\u001b[0;34m,\u001b[0m \u001b[0;32mNone\u001b[0m\u001b[0;34m]\u001b[0m\u001b[0;34m)\u001b[0m \u001b[0;34m**\u001b[0m \u001b[0;36m2\u001b[0m\u001b[0;34m,\u001b[0m \u001b[0maxis\u001b[0m\u001b[0;34m=\u001b[0m\u001b[0;34m-\u001b[0m\u001b[0;36m1\u001b[0m\u001b[0;34m)\u001b[0m\u001b[0;34m\u001b[0m\u001b[0;34m\u001b[0m\u001b[0m\n\u001b[0;32m---> 43\u001b[0;31m     \u001b[0mpredicted_variance\u001b[0m \u001b[0;34m=\u001b[0m \u001b[0mnp\u001b[0m\u001b[0;34m.\u001b[0m\u001b[0marray\u001b[0m\u001b[0;34m(\u001b[0m\u001b[0mpredicted_variance\u001b[0m\u001b[0;34m,\u001b[0m \u001b[0mcopy\u001b[0m\u001b[0;34m=\u001b[0m\u001b[0;32mTrue\u001b[0m\u001b[0;34m)\u001b[0m\u001b[0;34m\u001b[0m\u001b[0;34m\u001b[0m\u001b[0m\n\u001b[0m\u001b[1;32m     44\u001b[0m     \u001b[0;32mreturn\u001b[0m \u001b[0;34m(\u001b[0m\u001b[0mtruth_depths\u001b[0m \u001b[0;34m-\u001b[0m \u001b[0mpredicted_depths\u001b[0m\u001b[0;34m)\u001b[0m \u001b[0;34m**\u001b[0m \u001b[0;36m2\u001b[0m \u001b[0;34m/\u001b[0m \u001b[0mpredicted_variance\u001b[0m\u001b[0;34m\u001b[0m\u001b[0;34m\u001b[0m\u001b[0m\n\u001b[1;32m     45\u001b[0m \u001b[0;34m\u001b[0m\u001b[0m\n",
      "\u001b[0;32m~/.local/lib/python3.9/site-packages/jax/core.py\u001b[0m in \u001b[0;36m__array__\u001b[0;34m(self, *args, **kw)\u001b[0m\n\u001b[1;32m    448\u001b[0m \u001b[0;34m\u001b[0m\u001b[0m\n\u001b[1;32m    449\u001b[0m   \u001b[0;32mdef\u001b[0m \u001b[0m__array__\u001b[0m\u001b[0;34m(\u001b[0m\u001b[0mself\u001b[0m\u001b[0;34m,\u001b[0m \u001b[0;34m*\u001b[0m\u001b[0margs\u001b[0m\u001b[0;34m,\u001b[0m \u001b[0;34m**\u001b[0m\u001b[0mkw\u001b[0m\u001b[0;34m)\u001b[0m\u001b[0;34m:\u001b[0m\u001b[0;34m\u001b[0m\u001b[0;34m\u001b[0m\u001b[0m\n\u001b[0;32m--> 450\u001b[0;31m     \u001b[0;32mraise\u001b[0m \u001b[0mTracerArrayConversionError\u001b[0m\u001b[0;34m(\u001b[0m\u001b[0mself\u001b[0m\u001b[0;34m)\u001b[0m\u001b[0;34m\u001b[0m\u001b[0;34m\u001b[0m\u001b[0m\n\u001b[0m\u001b[1;32m    451\u001b[0m \u001b[0;34m\u001b[0m\u001b[0m\n\u001b[1;32m    452\u001b[0m   \u001b[0;32mdef\u001b[0m \u001b[0m__index__\u001b[0m\u001b[0;34m(\u001b[0m\u001b[0mself\u001b[0m\u001b[0;34m)\u001b[0m\u001b[0;34m:\u001b[0m\u001b[0;34m\u001b[0m\u001b[0;34m\u001b[0m\u001b[0m\n",
      "\u001b[0;31mTracerArrayConversionError\u001b[0m: The numpy.ndarray conversion method __array__() was called on the JAX Tracer object Traced<ShapedArray(float32[10])>with<DynamicJaxprTrace(level=0/1)>\nWhile tracing the function loss at /tmp/ipykernel_2307776/2395805713.py:31 for jit, this concrete value was not available in Python because it depends on the values of the argument passed at flattened positions [0, 1, 2, 3, 4, 5, 6, 7, 8, 9, 11, 13].\nSee https://jax.readthedocs.io/en/latest/errors.html#jax.errors.TracerArrayConversionError"
     ]
    }
   ],
   "source": [
    "loss(variables, truth_depths=jnp.ones(10), angles=jnp.ones(10), uniform=jnp.ones([10, 5]), x=jnp.ones(10), y=jnp.ones(10), angle=jnp.ones(10), config=config)"
   ]
  },
  {
   "cell_type": "code",
   "execution_count": 134,
   "id": "40e700d5",
   "metadata": {},
   "outputs": [
    {
     "data": {
      "text/plain": [
       "array([1., 1.], dtype=float32)"
      ]
     },
     "execution_count": 134,
     "metadata": {},
     "output_type": "execute_result"
    }
   ],
   "source": [
    "jnp.ones(2).copy()"
   ]
  },
  {
   "cell_type": "code",
   "execution_count": 135,
   "id": "20a872e8",
   "metadata": {},
   "outputs": [
    {
     "data": {
      "text/plain": [
       "DeviceArray([[[0.69883126, 2.3817732 ],\n",
       "              [0.69883126, 2.3817732 ],\n",
       "              [0.69883126, 2.3817732 ],\n",
       "              [0.69883126, 2.3817732 ],\n",
       "              [0.69883126, 2.3817732 ],\n",
       "              [0.69883126, 2.3817732 ],\n",
       "              [0.69883126, 2.3817732 ],\n",
       "              [0.69883126, 2.3817732 ],\n",
       "              [0.69883126, 2.3817732 ],\n",
       "              [0.69883126, 2.3817732 ]],\n",
       "\n",
       "             [[0.69883126, 2.3817732 ],\n",
       "              [0.69883126, 2.3817732 ],\n",
       "              [0.69883126, 2.3817732 ],\n",
       "              [0.69883126, 2.3817732 ],\n",
       "              [0.69883126, 2.3817732 ],\n",
       "              [0.69883126, 2.3817732 ],\n",
       "              [0.69883126, 2.3817732 ],\n",
       "              [0.69883126, 2.3817732 ],\n",
       "              [0.69883126, 2.3817732 ],\n",
       "              [0.69883126, 2.3817732 ]],\n",
       "\n",
       "             [[0.69883126, 2.3817732 ],\n",
       "              [0.69883126, 2.3817732 ],\n",
       "              [0.69883126, 2.3817732 ],\n",
       "              [0.69883126, 2.3817732 ],\n",
       "              [0.69883126, 2.3817732 ],\n",
       "              [0.69883126, 2.3817732 ],\n",
       "              [0.69883126, 2.3817732 ],\n",
       "              [0.69883126, 2.3817732 ],\n",
       "              [0.69883126, 2.3817732 ],\n",
       "              [0.69883126, 2.3817732 ]],\n",
       "\n",
       "             [[0.69883126, 2.3817732 ],\n",
       "              [0.69883126, 2.3817732 ],\n",
       "              [0.69883126, 2.3817732 ],\n",
       "              [0.69883126, 2.3817732 ],\n",
       "              [0.69883126, 2.3817732 ],\n",
       "              [0.69883126, 2.3817732 ],\n",
       "              [0.69883126, 2.3817732 ],\n",
       "              [0.69883126, 2.3817732 ],\n",
       "              [0.69883126, 2.3817732 ],\n",
       "              [0.69883126, 2.3817732 ]],\n",
       "\n",
       "             [[0.69883126, 2.3817732 ],\n",
       "              [0.69883126, 2.3817732 ],\n",
       "              [0.69883126, 2.3817732 ],\n",
       "              [0.69883126, 2.3817732 ],\n",
       "              [0.69883126, 2.3817732 ],\n",
       "              [0.69883126, 2.3817732 ],\n",
       "              [0.69883126, 2.3817732 ],\n",
       "              [0.69883126, 2.3817732 ],\n",
       "              [0.69883126, 2.3817732 ],\n",
       "              [0.69883126, 2.3817732 ]],\n",
       "\n",
       "             [[0.69883126, 2.3817732 ],\n",
       "              [0.69883126, 2.3817732 ],\n",
       "              [0.69883126, 2.3817732 ],\n",
       "              [0.69883126, 2.3817732 ],\n",
       "              [0.69883126, 2.3817732 ],\n",
       "              [0.69883126, 2.3817732 ],\n",
       "              [0.69883126, 2.3817732 ],\n",
       "              [0.69883126, 2.3817732 ],\n",
       "              [0.69883126, 2.3817732 ],\n",
       "              [0.69883126, 2.3817732 ]],\n",
       "\n",
       "             [[0.69883126, 2.3817732 ],\n",
       "              [0.69883126, 2.3817732 ],\n",
       "              [0.69883126, 2.3817732 ],\n",
       "              [0.69883126, 2.3817732 ],\n",
       "              [0.69883126, 2.3817732 ],\n",
       "              [0.69883126, 2.3817732 ],\n",
       "              [0.69883126, 2.3817732 ],\n",
       "              [0.69883126, 2.3817732 ],\n",
       "              [0.69883126, 2.3817732 ],\n",
       "              [0.69883126, 2.3817732 ]],\n",
       "\n",
       "             [[0.69883126, 2.3817732 ],\n",
       "              [0.69883126, 2.3817732 ],\n",
       "              [0.69883126, 2.3817732 ],\n",
       "              [0.69883126, 2.3817732 ],\n",
       "              [0.69883126, 2.3817732 ],\n",
       "              [0.69883126, 2.3817732 ],\n",
       "              [0.69883126, 2.3817732 ],\n",
       "              [0.69883126, 2.3817732 ],\n",
       "              [0.69883126, 2.3817732 ],\n",
       "              [0.69883126, 2.3817732 ]],\n",
       "\n",
       "             [[0.69883126, 2.3817732 ],\n",
       "              [0.69883126, 2.3817732 ],\n",
       "              [0.69883126, 2.3817732 ],\n",
       "              [0.69883126, 2.3817732 ],\n",
       "              [0.69883126, 2.3817732 ],\n",
       "              [0.69883126, 2.3817732 ],\n",
       "              [0.69883126, 2.3817732 ],\n",
       "              [0.69883126, 2.3817732 ],\n",
       "              [0.69883126, 2.3817732 ],\n",
       "              [0.69883126, 2.3817732 ]],\n",
       "\n",
       "             [[0.69883126, 2.3817732 ],\n",
       "              [0.69883126, 2.3817732 ],\n",
       "              [0.69883126, 2.3817732 ],\n",
       "              [0.69883126, 2.3817732 ],\n",
       "              [0.69883126, 2.3817732 ],\n",
       "              [0.69883126, 2.3817732 ],\n",
       "              [0.69883126, 2.3817732 ],\n",
       "              [0.69883126, 2.3817732 ],\n",
       "              [0.69883126, 2.3817732 ],\n",
       "              [0.69883126, 2.3817732 ]]], dtype=float32)"
      ]
     },
     "execution_count": 135,
     "metadata": {},
     "output_type": "execute_result"
    }
   ],
   "source": [
    "jax.vmap(transform_points, in_axes=(0, 0, 0, 0))(jnp.ones([10, 10, 2]), jnp.ones([10]), jnp.ones([10]), jnp.ones([10]))"
   ]
  },
  {
   "cell_type": "code",
   "execution_count": 130,
   "id": "ed76f31e",
   "metadata": {},
   "outputs": [
    {
     "data": {
      "text/plain": [
       "DeviceArray([[[0.69883126, 2.3817732 ],\n",
       "              [0.69883126, 2.3817732 ],\n",
       "              [0.69883126, 2.3817732 ],\n",
       "              [0.69883126, 2.3817732 ],\n",
       "              [0.69883126, 2.3817732 ],\n",
       "              [0.69883126, 2.3817732 ],\n",
       "              [0.69883126, 2.3817732 ],\n",
       "              [0.69883126, 2.3817732 ],\n",
       "              [0.69883126, 2.3817732 ],\n",
       "              [0.69883126, 2.3817732 ]],\n",
       "\n",
       "             [[0.69883126, 2.3817732 ],\n",
       "              [0.69883126, 2.3817732 ],\n",
       "              [0.69883126, 2.3817732 ],\n",
       "              [0.69883126, 2.3817732 ],\n",
       "              [0.69883126, 2.3817732 ],\n",
       "              [0.69883126, 2.3817732 ],\n",
       "              [0.69883126, 2.3817732 ],\n",
       "              [0.69883126, 2.3817732 ],\n",
       "              [0.69883126, 2.3817732 ],\n",
       "              [0.69883126, 2.3817732 ]],\n",
       "\n",
       "             [[0.69883126, 2.3817732 ],\n",
       "              [0.69883126, 2.3817732 ],\n",
       "              [0.69883126, 2.3817732 ],\n",
       "              [0.69883126, 2.3817732 ],\n",
       "              [0.69883126, 2.3817732 ],\n",
       "              [0.69883126, 2.3817732 ],\n",
       "              [0.69883126, 2.3817732 ],\n",
       "              [0.69883126, 2.3817732 ],\n",
       "              [0.69883126, 2.3817732 ],\n",
       "              [0.69883126, 2.3817732 ]],\n",
       "\n",
       "             [[0.69883126, 2.3817732 ],\n",
       "              [0.69883126, 2.3817732 ],\n",
       "              [0.69883126, 2.3817732 ],\n",
       "              [0.69883126, 2.3817732 ],\n",
       "              [0.69883126, 2.3817732 ],\n",
       "              [0.69883126, 2.3817732 ],\n",
       "              [0.69883126, 2.3817732 ],\n",
       "              [0.69883126, 2.3817732 ],\n",
       "              [0.69883126, 2.3817732 ],\n",
       "              [0.69883126, 2.3817732 ]],\n",
       "\n",
       "             [[0.69883126, 2.3817732 ],\n",
       "              [0.69883126, 2.3817732 ],\n",
       "              [0.69883126, 2.3817732 ],\n",
       "              [0.69883126, 2.3817732 ],\n",
       "              [0.69883126, 2.3817732 ],\n",
       "              [0.69883126, 2.3817732 ],\n",
       "              [0.69883126, 2.3817732 ],\n",
       "              [0.69883126, 2.3817732 ],\n",
       "              [0.69883126, 2.3817732 ],\n",
       "              [0.69883126, 2.3817732 ]],\n",
       "\n",
       "             [[0.69883126, 2.3817732 ],\n",
       "              [0.69883126, 2.3817732 ],\n",
       "              [0.69883126, 2.3817732 ],\n",
       "              [0.69883126, 2.3817732 ],\n",
       "              [0.69883126, 2.3817732 ],\n",
       "              [0.69883126, 2.3817732 ],\n",
       "              [0.69883126, 2.3817732 ],\n",
       "              [0.69883126, 2.3817732 ],\n",
       "              [0.69883126, 2.3817732 ],\n",
       "              [0.69883126, 2.3817732 ]],\n",
       "\n",
       "             [[0.69883126, 2.3817732 ],\n",
       "              [0.69883126, 2.3817732 ],\n",
       "              [0.69883126, 2.3817732 ],\n",
       "              [0.69883126, 2.3817732 ],\n",
       "              [0.69883126, 2.3817732 ],\n",
       "              [0.69883126, 2.3817732 ],\n",
       "              [0.69883126, 2.3817732 ],\n",
       "              [0.69883126, 2.3817732 ],\n",
       "              [0.69883126, 2.3817732 ],\n",
       "              [0.69883126, 2.3817732 ]],\n",
       "\n",
       "             [[0.69883126, 2.3817732 ],\n",
       "              [0.69883126, 2.3817732 ],\n",
       "              [0.69883126, 2.3817732 ],\n",
       "              [0.69883126, 2.3817732 ],\n",
       "              [0.69883126, 2.3817732 ],\n",
       "              [0.69883126, 2.3817732 ],\n",
       "              [0.69883126, 2.3817732 ],\n",
       "              [0.69883126, 2.3817732 ],\n",
       "              [0.69883126, 2.3817732 ],\n",
       "              [0.69883126, 2.3817732 ]],\n",
       "\n",
       "             [[0.69883126, 2.3817732 ],\n",
       "              [0.69883126, 2.3817732 ],\n",
       "              [0.69883126, 2.3817732 ],\n",
       "              [0.69883126, 2.3817732 ],\n",
       "              [0.69883126, 2.3817732 ],\n",
       "              [0.69883126, 2.3817732 ],\n",
       "              [0.69883126, 2.3817732 ],\n",
       "              [0.69883126, 2.3817732 ],\n",
       "              [0.69883126, 2.3817732 ],\n",
       "              [0.69883126, 2.3817732 ]],\n",
       "\n",
       "             [[0.69883126, 2.3817732 ],\n",
       "              [0.69883126, 2.3817732 ],\n",
       "              [0.69883126, 2.3817732 ],\n",
       "              [0.69883126, 2.3817732 ],\n",
       "              [0.69883126, 2.3817732 ],\n",
       "              [0.69883126, 2.3817732 ],\n",
       "              [0.69883126, 2.3817732 ],\n",
       "              [0.69883126, 2.3817732 ],\n",
       "              [0.69883126, 2.3817732 ],\n",
       "              [0.69883126, 2.3817732 ]]], dtype=float32)"
      ]
     },
     "execution_count": 130,
     "metadata": {},
     "output_type": "execute_result"
    }
   ],
   "source": [
    "transform_points(jnp.ones([10, 10, 2]), jnp.ones([10, 1]), jnp.ones([10, 1]), jnp.ones([10, 1]))"
   ]
  },
  {
   "cell_type": "code",
   "execution_count": 131,
   "id": "c3d34d8d",
   "metadata": {},
   "outputs": [
    {
     "data": {
      "text/plain": [
       "DeviceArray([[1. , 1.5, 2.5, 3.5, 4. ],\n",
       "             [1. , 1.5, 2.5, 3.5, 4. ],\n",
       "             [1. , 1.5, 2.5, 3.5, 4. ],\n",
       "             [1. , 1.5, 2.5, 3.5, 4. ]], dtype=float32)"
      ]
     },
     "execution_count": 131,
     "metadata": {},
     "output_type": "execute_result"
    }
   ],
   "source": [
    "jax.vmap(functools.partial(sample_depth, parameters=config))(jnp.ones([4, config.bins_count]) * 0.5)"
   ]
  },
  {
   "cell_type": "code",
   "execution_count": 125,
   "id": "0fdb5ff9",
   "metadata": {},
   "outputs": [
    {
     "data": {
      "text/plain": [
       "DeviceArray([ 3,  6, 18, 72], dtype=int32)"
      ]
     },
     "execution_count": 125,
     "metadata": {},
     "output_type": "execute_result"
    }
   ],
   "source": [
    "jnp.cumprod(jnp.array([3, 2, 3, 4]))"
   ]
  },
  {
   "cell_type": "code",
   "execution_count": 118,
   "id": "e9efb393",
   "metadata": {},
   "outputs": [
    {
     "data": {
      "text/plain": [
       "DeviceArray([6.3212049e-01, 3.6114153e-01, 6.7371167e-03, 8.3152884e-07],            dtype=float32)"
      ]
     },
     "execution_count": 118,
     "metadata": {},
     "output_type": "execute_result"
    }
   ],
   "source": [
    "a = jnp.array([1, 2, 3])\n",
    "b = np.array([1, 2, 3])\n",
    "              \n",
    "calculate_weights(a, b)"
   ]
  },
  {
   "cell_type": "code",
   "execution_count": 16,
   "id": "62a82450",
   "metadata": {},
   "outputs": [
    {
     "data": {
      "text/plain": [
       "DeviceArray([[[6.3212049e-01, 2.3254415e-01, 8.5548222e-02, ...,\n",
       "               4.3707469e-13, 1.6079081e-13, 9.3576527e-14],\n",
       "              [6.3212049e-01, 2.3254415e-01, 8.5548222e-02, ...,\n",
       "               4.3707469e-13, 1.6079081e-13, 9.3576527e-14],\n",
       "              [6.3212049e-01, 2.3254415e-01, 8.5548222e-02, ...,\n",
       "               4.3707469e-13, 1.6079081e-13, 9.3576527e-14],\n",
       "              ...,\n",
       "              [6.3212049e-01, 2.3254415e-01, 8.5548222e-02, ...,\n",
       "               4.3707469e-13, 1.6079081e-13, 9.3576527e-14],\n",
       "              [6.3212049e-01, 2.3254415e-01, 8.5548222e-02, ...,\n",
       "               4.3707469e-13, 1.6079081e-13, 9.3576527e-14],\n",
       "              [6.3212049e-01, 2.3254415e-01, 8.5548222e-02, ...,\n",
       "               4.3707469e-13, 1.6079081e-13, 9.3576527e-14]],\n",
       "\n",
       "             [[6.3212049e-01, 2.3254415e-01, 8.5548222e-02, ...,\n",
       "               4.3707469e-13, 1.6079081e-13, 9.3576527e-14],\n",
       "              [6.3212049e-01, 2.3254415e-01, 8.5548222e-02, ...,\n",
       "               4.3707469e-13, 1.6079081e-13, 9.3576527e-14],\n",
       "              [6.3212049e-01, 2.3254415e-01, 8.5548222e-02, ...,\n",
       "               4.3707469e-13, 1.6079081e-13, 9.3576527e-14],\n",
       "              ...,\n",
       "              [6.3212049e-01, 2.3254415e-01, 8.5548222e-02, ...,\n",
       "               4.3707469e-13, 1.6079081e-13, 9.3576527e-14],\n",
       "              [6.3212049e-01, 2.3254415e-01, 8.5548222e-02, ...,\n",
       "               4.3707469e-13, 1.6079081e-13, 9.3576527e-14],\n",
       "              [6.3212049e-01, 2.3254415e-01, 8.5548222e-02, ...,\n",
       "               4.3707469e-13, 1.6079081e-13, 9.3576527e-14]],\n",
       "\n",
       "             [[6.3212049e-01, 2.3254415e-01, 8.5548222e-02, ...,\n",
       "               4.3707469e-13, 1.6079081e-13, 9.3576527e-14],\n",
       "              [6.3212049e-01, 2.3254415e-01, 8.5548222e-02, ...,\n",
       "               4.3707469e-13, 1.6079081e-13, 9.3576527e-14],\n",
       "              [6.3212049e-01, 2.3254415e-01, 8.5548222e-02, ...,\n",
       "               4.3707469e-13, 1.6079081e-13, 9.3576527e-14],\n",
       "              ...,\n",
       "              [6.3212049e-01, 2.3254415e-01, 8.5548222e-02, ...,\n",
       "               4.3707469e-13, 1.6079081e-13, 9.3576527e-14],\n",
       "              [6.3212049e-01, 2.3254415e-01, 8.5548222e-02, ...,\n",
       "               4.3707469e-13, 1.6079081e-13, 9.3576527e-14],\n",
       "              [6.3212049e-01, 2.3254415e-01, 8.5548222e-02, ...,\n",
       "               4.3707469e-13, 1.6079081e-13, 9.3576527e-14]]],            dtype=float32)"
      ]
     },
     "execution_count": 16,
     "metadata": {},
     "output_type": "execute_result"
    }
   ],
   "source": [
    "batch = np.ones([3, 20, 30])\n",
    "jax.vmap(jax.vmap(calculate_weights))(batch, batch)"
   ]
  },
  {
   "cell_type": "code",
   "execution_count": 100,
   "id": "ded1b7d7",
   "metadata": {},
   "outputs": [
    {
     "data": {
      "text/plain": [
       "DeviceArray([-0.03629278, -0.03629278, -0.03629278, -0.03629278,\n",
       "             -0.03629278, -0.03629278, -0.03629278, -0.03629278,\n",
       "             -0.03629278, -0.03629278], dtype=float32)"
      ]
     },
     "execution_count": 100,
     "metadata": {},
     "output_type": "execute_result"
    }
   ],
   "source": [
    "model.apply(variables, jnp.ones([10, 2]))"
   ]
  },
  {
   "cell_type": "code",
   "execution_count": null,
   "id": "b244ef20",
   "metadata": {},
   "outputs": [],
   "source": []
  }
 ],
 "metadata": {
  "kernelspec": {
   "display_name": "Python 3 (ipykernel)",
   "language": "python",
   "name": "python3"
  },
  "language_info": {
   "codemirror_mode": {
    "name": "ipython",
    "version": 3
   },
   "file_extension": ".py",
   "mimetype": "text/x-python",
   "name": "python",
   "nbconvert_exporter": "python",
   "pygments_lexer": "ipython3",
   "version": "3.9.11"
  }
 },
 "nbformat": 4,
 "nbformat_minor": 5
}
