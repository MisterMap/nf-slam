{
 "cells": [
  {
   "cell_type": "code",
   "execution_count": 1,
   "id": "37e961ee",
   "metadata": {},
   "outputs": [
    {
     "name": "stdout",
     "output_type": "stream",
     "text": [
      "ROS is not sourced. To enable ROS features, please source it\n"
     ]
    }
   ],
   "source": [
    "paths = [\"..\"]\n",
    "import sys\n",
    "for path in paths:\n",
    "    if path not in sys.path:\n",
    "        sys.path.append(path)\n",
    "from nf_slam.lidar_dataset_loader import LidarDatasetLoader, LidarDatasetLoaderConfig\n",
    "from nf_slam.space_hashing_mapping.mlp_model import MLPModel\n",
    "from nf_slam.space_hashing_mapping.mapping import LearningConfig, OptimizerConfig, MapBuilder, ScanData,\\\n",
    "    init_map_model, BuildMapState\n",
    "from nf_slam.plotting_utils import show_points, plot_nf_with_scans, plot_optimization_result,\\\n",
    "    plot_model_heatmap, plot_reconstructed_result\n",
    "from nf_slam.tracking.tracking import OptimizePositionConfig, PositionOptimizer, \\\n",
    "    OptimizePositionState\n",
    "from nf_slam.position_2d import Position2D\n",
    "import matplotlib.pyplot as plt\n",
    "import jax.numpy as jnp\n",
    "import numpy as np\n",
    "import tqdm\n",
    "import matplotlib.animation\n",
    "import io\n",
    "plt.rcParams[\"animation.html\"] = \"jshtml\"\n",
    "plt.rcParams[\"animation.embed_limit\"] = 150\n",
    "import flax.linen as nn\n",
    "import dataclasses\n",
    "from nf_slam.space_hashing_mapping.map_model import MapModel\n",
    "from nf_slam.space_hashing_mapping.mlp_model import MLPModel\n",
    "import optax\n",
    "import functools\n",
    "import jax\n",
    "import jax_dataclasses as jdc\n",
    "from dataclasses import dataclass\n",
    "from nf_slam.space_hashing_mapping.jax_math import calculate_layer_embeddings\n",
    "from nf_slam.space_hashing_mapping.mapping import transform_points, calculate_points\n",
    "from flax.optim.adam import Adam\n",
    "from flax.optim import OptimizerState"
   ]
  },
  {
   "cell_type": "code",
   "execution_count": 2,
   "id": "790a3559",
   "metadata": {},
   "outputs": [],
   "source": [
    "def get_points(laser_data_list, c=\"yellow\", s=0.3):\n",
    "    all_points = []\n",
    "    for laser_data in laser_data_list:\n",
    "        all_points.append(laser_data.as_points_in_odometry_frame())\n",
    "    points = np.concatenate(all_points, axis=0)\n",
    "    return points"
   ]
  },
  {
   "cell_type": "code",
   "execution_count": 3,
   "id": "689954f2",
   "metadata": {},
   "outputs": [],
   "source": [
    "lidar_dataset_loader_config = LidarDatasetLoaderConfig(\n",
    "    maximal_token_length=180,\n",
    "    minimal_angle=90.,\n",
    "    maximal_angle=90.,\n",
    "    maximal_distance=10.\n",
    ")\n",
    "dataset_loader = LidarDatasetLoader(lidar_dataset_loader_config)"
   ]
  },
  {
   "cell_type": "code",
   "execution_count": 4,
   "id": "801a3a2f",
   "metadata": {},
   "outputs": [],
   "source": [
    "datafile = \"/home/mikhail/Downloads/intel.gfs(4).log\" \n",
    "# datafile = \"/home/mikhail/Downloads/intel.log\"\n",
    "laser_data_list = dataset_loader.load(datafile)"
   ]
  },
  {
   "cell_type": "code",
   "execution_count": 5,
   "id": "df30b78e",
   "metadata": {},
   "outputs": [
    {
     "data": {
      "image/png": "[encoded data removed]",
      "text/plain": [
       "<Figure size 1200x800 with 1 Axes>"
      ]
     },
     "metadata": {
      "needs_background": "light"
     },
     "output_type": "display_data"
    }
   ],
   "source": [
    "plt.figure(dpi=200)\n",
    "show_points(laser_data_list[0:4:2], c=\"blue\");"
   ]
  },
  {
   "cell_type": "markdown",
   "id": "e37a350b",
   "metadata": {},
   "source": [
    "# Test map classification "
   ]
  },
  {
   "cell_type": "code",
   "execution_count": 6,
   "id": "2b383ff0",
   "metadata": {},
   "outputs": [],
   "source": [
    "@dataclass(unsafe_hash=True)\n",
    "class RectangleBoundary:\n",
    "    min_x: float\n",
    "    max_x: float\n",
    "    min_y: float\n",
    "    max_y: float\n",
    "    \n",
    "    @classmethod\n",
    "    def from_vec(cls, vec):\n",
    "        return cls(*vec)\n",
    "    \n",
    "    def apply(self, points):\n",
    "        x = points[:, 0] * (self.max_x - self.min_x) + self.min_x\n",
    "        y = points[:, 1] * (self.max_y - self.min_y) + self.min_y\n",
    "        return jnp.stack([x, y], axis=1)"
   ]
  },
  {
   "cell_type": "code",
   "execution_count": 7,
   "id": "d34d554c",
   "metadata": {},
   "outputs": [],
   "source": [
    "@jdc.pytree_dataclass\n",
    "class LearningData:\n",
    "    normal: jnp.array\n",
    "    random_points: jnp.array\n",
    "        \n",
    "    @classmethod\n",
    "    def from_config(cls, scan_data, config, key):\n",
    "        random_points = jax.random.uniform(jax.random.PRNGKey(key), (config.random_point_count, 2))\n",
    "        return cls(\n",
    "            normal=jax.random.normal(jax.random.PRNGKey(key), \n",
    "                                     (len(scan_data.depths), config.sampling_depth_count)),\n",
    "            random_points=config.random_point_boundary.apply(random_points))\n",
    "        \n",
    "        \n",
    "@dataclass(unsafe_hash=True)\n",
    "class MapModelConfig(object):\n",
    "    minimal_depth: float\n",
    "    maximal_depth: float\n",
    "    F: int\n",
    "    L: int\n",
    "    T: int\n",
    "    max_log_resolution: float\n",
    "    min_log_resolution: float\n",
    "\n",
    "@dataclass(unsafe_hash=True)\n",
    "class MapBuildingConfig:\n",
    "    sampling_depth_delta: float\n",
    "    sampling_depth_count: int\n",
    "    classification_loss_weight: float\n",
    "    point_loss_weight: float\n",
    "    random_point_boundary: RectangleBoundary\n",
    "    random_point_loss_weight: float\n",
    "    random_point_count: int"
   ]
  },
  {
   "cell_type": "code",
   "execution_count": 8,
   "id": "55117cc5",
   "metadata": {},
   "outputs": [],
   "source": [
    "def calculate_densities(points: jnp.array, map_model: MapModel, model: MLPModel):\n",
    "    embedding = calculate_layer_embeddings(map_model.hashtable,\n",
    "                                           points,\n",
    "                                           map_model.resolutions,\n",
    "                                           map_model.origins,\n",
    "                                           map_model.hashtable.shape[1],\n",
    "                                           map_model.hashtable.shape[0],\n",
    "                                           map_model.rotations)\n",
    "    embedding = jnp.transpose(embedding, (1, 0, 2)).reshape(embedding.shape[1], -1)\n",
    "    return model.apply(map_model.variables, embedding)\n",
    "\n",
    "@jax.jit\n",
    "def transform_points(points, position):\n",
    "    x = position[..., 0, None]\n",
    "    y = position[..., 1, None]\n",
    "    angle = position[..., 2, None]\n",
    "    transformed_x = x + points[..., 0] * jnp.cos(angle) - points[..., 1] * jnp.sin(angle)\n",
    "    transformed_y = y + points[..., 0] * jnp.sin(angle) + points[..., 1] * jnp.cos(angle)\n",
    "    return jnp.stack([transformed_x, transformed_y], axis=-1)\n",
    "\n",
    "@functools.partial(jax.jit, static_argnums=[4, 5, 6])\n",
    "def mapping_classification_loss(map_model: MapModel, position: jnp.array, scan_data: ScanData,\n",
    "                 learning_data: LearningData, map_model_config: MapModelConfig, model: MLPModel,\n",
    "                               config: MapBuildingConfig):\n",
    "    sampling_depth_deltas = jnp.where(learning_data.normal > 0, config.sampling_depth_delta, \n",
    "                                     scan_data.depths[..., None] / 2)\n",
    "    sampling_dephts = learning_data.normal * sampling_depth_deltas  + scan_data.depths[..., None]\n",
    "    sampling_dephts = jnp.clip(sampling_dephts, 0, None)\n",
    "    points = calculate_points(sampling_dephts, scan_data)\n",
    "    points = transform_points(points, position).reshape(-1, 2)\n",
    "    labels = (jnp.sign(learning_data.normal.reshape(-1)) + 1) / 2.\n",
    "    densities = calculate_densities(points, map_model, model)\n",
    "    labels = jnp.where(labels < 0.5, labels, 0.75 * jax.nn.sigmoid(densities) + 0.25)\n",
    "    return optax.sigmoid_binary_cross_entropy(densities, labels).mean()\n",
    "\n",
    "@functools.partial(jax.jit, static_argnums=[4, 5, 6])\n",
    "def mapping_point_loss(map_model: MapModel, position: jnp.array, scan_data: ScanData,\n",
    "                       learning_data: LearningData, map_model_config: MapModelConfig, model: MLPModel,\n",
    "                               config: MapBuildingConfig):\n",
    "    sampling_dephts = scan_data.depths[..., None]\n",
    "    points = calculate_points(sampling_dephts, scan_data)\n",
    "    points = transform_points(points, position).reshape(-1, 2)\n",
    "    densities = calculate_densities(points, map_model, model)\n",
    "    return (densities ** 2).mean()\n",
    "\n",
    "\n",
    "@functools.partial(jax.jit, static_argnums=[4, 5, 6])\n",
    "def random_mapping_point_loss(map_model: MapModel, position: jnp.array, scan_data: ScanData,\n",
    "                       learning_data: LearningData, map_model_config: MapModelConfig, model: MLPModel,\n",
    "                               config: MapBuildingConfig):\n",
    "    points = learning_data.random_points\n",
    "    densities = calculate_densities(points, map_model, model)\n",
    "    return (densities ** 2).mean()\n",
    "\n",
    "@functools.partial(jax.jit, static_argnums=[4, 5, 6])\n",
    "def mapping_loss(map_model: MapModel, position: jnp.array, scan_data: ScanData,\n",
    "                       learning_data: LearningData, map_model_config: MapModelConfig, model: MLPModel,\n",
    "                               config: MapBuildingConfig):\n",
    "    return config.point_loss_weight * mapping_point_loss(map_model, position, scan_data,\n",
    "                       learning_data, map_model_config, model, config) +\\\n",
    "           config.classification_loss_weight * mapping_classification_loss(map_model, position, scan_data,\n",
    "                       learning_data, map_model_config, model, config) +\\\n",
    "           config.random_point_loss_weight  * mapping_classification_loss(map_model, position, scan_data,\n",
    "                       learning_data, map_model_config, model, config)\n",
    "         "
   ]
  },
  {
   "cell_type": "code",
   "execution_count": null,
   "id": "2a25dee7",
   "metadata": {},
   "outputs": [],
   "source": [
    "learning_index = 30\n",
    "points = get_points(laser_data_list[learning_index:learning_index + 1])\n",
    "bounds = (np.min(points[:, 0]) - 1, np.max(points[:, 0]) + 1, np.min(points[:, 1]) - 1, np.max(points[:, 1]) + 1)\n",
    "\n",
    "\n",
    "map_model_config = MapModelConfig(\n",
    "    minimal_depth=0.05,\n",
    "    maximal_depth=10,\n",
    "    F=4,\n",
    "    L=16,\n",
    "    T=4096,\n",
    "    min_log_resolution=-0.5,\n",
    "    max_log_resolution=2.,\n",
    ")\n",
    "\n",
    "map_building_config = MapBuildingConfig(\n",
    "    sampling_depth_delta=3.,\n",
    "    sampling_depth_count=200,\n",
    "    point_loss_weight=1.,\n",
    "    classification_loss_weight=1.,\n",
    "    random_point_boundary=RectangleBoundary(*bounds),\n",
    "    random_point_loss_weight=100.,\n",
    "    random_point_count=100,\n",
    ")\n",
    "learning_config = LearningConfig(\n",
    "    iterations=100,\n",
    "    variable_optimizer_config=OptimizerConfig(\n",
    "        learning_rate=0.5e-2,\n",
    "        beta1=0.9,\n",
    "        beta2=0.99,\n",
    "        eps=1e-15,\n",
    "        weight_decay=1e-5,\n",
    "    ),\n",
    "    hashtable_optimizer_config=OptimizerConfig(\n",
    "        learning_rate=3e-2,\n",
    "        beta1=0.9,\n",
    "        beta2=0.99,\n",
    "        eps=1e-15,\n",
    "        weight_decay=0,\n",
    "    )\n",
    ")\n",
    "\n",
    "mlp_model = MLPModel()\n",
    "laser_data = laser_data_list[learning_index]\n",
    "scan_data = ScanData.from_laser_data(laser_data)\n",
    "map_model = init_map_model(mlp_model, map_model_config)\n",
    "map_position = jnp.array(laser_data.odometry_position.as_vec())\n",
    "\n",
    "variable_optimizer = Adam(**dataclasses.asdict(learning_config.variable_optimizer_config))\n",
    "hashtable_optimizer = Adam(**dataclasses.asdict(learning_config.hashtable_optimizer_config))\n",
    "        \n",
    "loss_function = jax.jit(jax.value_and_grad(mapping_loss), static_argnums=[4, 5, 6])\n",
    "\n",
    "state = BuildMapState(\n",
    "            iteration=0,\n",
    "            variable_state=variable_optimizer.init_state(map_model.variables),\n",
    "            hashtable_state=hashtable_optimizer.init_state(map_model.hashtable)\n",
    ")\n",
    "loss_history = []\n",
    "for i in tqdm.tqdm(range(learning_config.iterations)):\n",
    "    learning_data = LearningData.from_config(scan_data, map_building_config, i)\n",
    "    loss, grad = loss_function(map_model, map_position, scan_data, learning_data, map_model_config, mlp_model,\n",
    "                            map_building_config)\n",
    "    variables, variable_state = variable_optimizer.apply_gradient(\n",
    "            variable_optimizer.hyper_params,\n",
    "            map_model.variables,\n",
    "            state.variable_state, grad.variables)\n",
    "    hashtable, hashtable_state = hashtable_optimizer.apply_gradient(\n",
    "            hashtable_optimizer.hyper_params,\n",
    "            map_model.hashtable,\n",
    "            state.hashtable_state, grad.hashtable)\n",
    "    map_model = MapModel(hashtable=hashtable, variables=variables, resolutions=map_model.resolutions,\n",
    "                             origins=map_model.origins, rotations=map_model.rotations)\n",
    "    state = BuildMapState(state.iteration + 1, variable_state, hashtable_state)\n",
    "    loss_history.append(loss)"
   ]
  },
  {
   "cell_type": "code",
   "execution_count": null,
   "id": "5ccfaaa3",
   "metadata": {},
   "outputs": [],
   "source": [
    "plt.plot(loss_history)"
   ]
  },
  {
   "cell_type": "code",
   "execution_count": null,
   "id": "c63c5c77",
   "metadata": {},
   "outputs": [],
   "source": [
    "def plot_model_heatmap(map_model: MapModel, bounds, model, grid_shape=(200, 200), vmin=None, vmax=None):\n",
    "    grid_x, grid_y = jnp.meshgrid(jnp.linspace(bounds[0], bounds[1], grid_shape[0]),\n",
    "                                  jnp.linspace(bounds[2], bounds[3], grid_shape[1]))\n",
    "    grid = jnp.stack([grid_x, grid_y], axis=2).reshape(-1, 2)\n",
    "    obstacle_probabilities = calculate_densities(grid, map_model, model)\n",
    "    obstacle_probabilities = np.array(obstacle_probabilities).reshape(*grid_shape)\n",
    "    grid = grid.reshape(grid_shape[0], grid_shape[1], 2)\n",
    "    plt.gca().pcolormesh(grid[:, :, 0], grid[:, :, 1], obstacle_probabilities, cmap='RdBu', shading='auto',\n",
    "                         vmin=vmin, vmax=vmax)\n",
    "    plt.gca().set_aspect('equal')"
   ]
  },
  {
   "cell_type": "code",
   "execution_count": null,
   "id": "56097c6b",
   "metadata": {},
   "outputs": [],
   "source": [
    "plt.figure(dpi=200)\n",
    "value = 10\n",
    "points = show_points(laser_data_list[learning_index:learning_index + 1])\n",
    "bounds = (np.min(points[:, 0]) - 1, np.max(points[:, 0]) + 1, np.min(points[:, 1]) - 1, np.max(points[:, 1]) + 1)\n",
    "plot_model_heatmap(map_model, bounds, mlp_model, grid_shape=(1000, 1000), vmin=-value, vmax=value)\n",
    "show_points(laser_data_list[learning_index:learning_index + 1], c=\"black\");"
   ]
  },
  {
   "cell_type": "markdown",
   "id": "2b324adf",
   "metadata": {},
   "source": [
    "# Tracking"
   ]
  },
  {
   "cell_type": "code",
   "execution_count": null,
   "id": "8872479a",
   "metadata": {},
   "outputs": [],
   "source": [
    "@functools.partial(jax.jit, static_argnums=[1, ])\n",
    "def huber(input_array, delta):\n",
    "#     result = delta ** 2 * (jnp.sqrt((1 + (input_array / delta) ** 2)) - 1)\n",
    "#     result = jnp.sign(input_array) * jnp.sqrt(result)\n",
    "    mask = jnp.abs(input_array) < delta\n",
    "    result = jnp.where(mask, input_array, jnp.sign(input_array) * (delta * (2 * jnp.abs(input_array) - delta)) ** 0.5)\n",
    "    return result\n",
    "\n",
    "@functools.partial(jax.jit, static_argnums=[4, 5, 6])\n",
    "def calculate_deltas(map_model: MapModel, position: jnp.array, scan_data: ScanData,\n",
    "                       learning_data: LearningData, map_model_config: MapModelConfig, model: MLPModel, \n",
    "                    map_building_config):\n",
    "    sampling_dephts = scan_data.depths[..., None]\n",
    "    points = calculate_points(sampling_dephts, scan_data)\n",
    "    points = transform_points(points, position).reshape(-1, 2)\n",
    "    densities = calculate_densities(points, map_model, model)\n",
    "    deltas = huber(densities, 2)\n",
    "    deltas = deltas / jnp.sqrt(scan_data.depths.shape[0])\n",
    "    return deltas\n",
    "\n",
    "@functools.partial(jax.jit, static_argnums=[4, 5, 6])\n",
    "def tracking_loss(map_model: MapModel, position: jnp.array, scan_data: ScanData,\n",
    "                       learning_data: LearningData, map_model_config: MapModelConfig, model: MLPModel,\n",
    "                 map_building_config):\n",
    "    return (calculate_deltas(map_model, position, scan_data, learning_data, map_model_config, model,\n",
    "                            map_building_config) ** 2).sum()"
   ]
  },
  {
   "cell_type": "code",
   "execution_count": null,
   "id": "b0a572b3",
   "metadata": {},
   "outputs": [],
   "source": [
    "@dataclasses.dataclass\n",
    "class OptimizePositionConfig:\n",
    "    learning_rate: float\n",
    "    iterations: int  # 100\n",
    "    init_hessian: jnp.array  # jnp.diag(jnp.array([2000, 2000, 200]))\n",
    "    maximal_clip_norm: float  # 30\n",
    "    beta1: float  # 0.7\n",
    "    beta2: float  # 0.4\n",
    "    hessian_adder: jnp.array  # jnp.diag(jnp.array([20, 20, 2]))\n",
    "        \n",
    "@dataclasses.dataclass\n",
    "class OptimizePositionState:\n",
    "    iteration: int\n",
    "    previous_hessian: jnp.array\n",
    "    previous_grad: jnp.array\n"
   ]
  },
  {
   "cell_type": "code",
   "execution_count": null,
   "id": "44fec107",
   "metadata": {},
   "outputs": [],
   "source": [
    "tracking_config = OptimizePositionConfig(\n",
    "    learning_rate=0.9,\n",
    "    iterations=100,\n",
    "    init_hessian=jnp.diag(jnp.array([200, 200, 200])),\n",
    "    maximal_clip_norm=100,\n",
    "    beta1=0.5,\n",
    "    beta2=0.3,\n",
    "    hessian_adder=jnp.diag(jnp.array([200, 200, 200])) * 0.01\n",
    ")"
   ]
  },
  {
   "cell_type": "code",
   "execution_count": null,
   "id": "6f0cf544",
   "metadata": {},
   "outputs": [],
   "source": [
    "jacobian_function = jax.jit(jax.jacfwd(calculate_deltas, argnums=1), static_argnums=[4, 5, 6])\n",
    "\n",
    "tracking_index = 30\n",
    "laser_data = laser_data_list[tracking_index]\n",
    "scan_data = ScanData.from_laser_data(laser_data)\n",
    "# optimized_position = jnp.array([0, -1, 2.7])\n",
    "# optimized_position = jnp.array([0.656, -1, 4])\n",
    "# optimized_position = jnp.array([-0.5, 1., 2.77])\n",
    "optimized_position = jnp.array(laser_data_list[tracking_index].odometry_position.as_vec())\n",
    "optimized_position = optimized_position + jnp.array([0, 0, 0])\n",
    "# optimized_position = jnp.array([0.656165, 0.0812728,  3])\n",
    "init_optimized_position = optimized_position\n",
    "\n",
    "state = OptimizePositionState(0, tracking_config.init_hessian, jnp.zeros(3))\n",
    "loss_history = []\n",
    "position_history = []\n",
    "hessian_history = []\n",
    "grad_history = []\n",
    "hessian_adder = tracking_config.hessian_adder\n",
    "for i in tqdm.tqdm(range(tracking_config.iterations)):\n",
    "        learning_data = LearningData.from_config(scan_data, map_building_config, i)\n",
    "        jacobian = jacobian_function(map_model, optimized_position, scan_data,\n",
    "                                          learning_data,\n",
    "                                          map_model_config, mlp_model, map_building_config)\n",
    "        jacobian_norm = jnp.linalg.norm(jacobian, axis=1) + 1e-4\n",
    "        clipped_norm = jnp.clip(jacobian_norm, 0, tracking_config.maximal_clip_norm)\n",
    "#         jacobian = jacobian / jacobian_norm[:, None] * clipped_norm[:, None]\n",
    "        depth_deltas = calculate_deltas(map_model, optimized_position, scan_data,\n",
    "                                              learning_data, map_model_config, mlp_model, map_building_config)\n",
    "        grad = 2 * jnp.sum(jacobian * depth_deltas[:, None], axis=0)\n",
    "        \n",
    "        hessian = 2 * jacobian.T @ jacobian\n",
    "        \n",
    "        grad = tracking_config.beta2 * state.previous_grad + (1 - tracking_config.beta2) * grad\n",
    "        grad_history.append(grad)\n",
    "        hessian = tracking_config.beta1 * state.previous_hessian + (1 - tracking_config.beta1) * hessian\n",
    "        hessian_history.append(hessian)\n",
    "        previous_hessian = hessian\n",
    "        hessian = hessian + hessian_adder\n",
    "#         hessian_adder = hessian_adder * 0.95\n",
    "        delta = -(jnp.linalg.inv(hessian) @ grad) * tracking_config.learning_rate\n",
    "        optimized_position = optimized_position + delta\n",
    "        previous_grad = grad + hessian @ delta\n",
    "        state = OptimizePositionState(state.iteration + 1, previous_hessian, previous_grad)\n",
    "        loss = tracking_loss(map_model, optimized_position, scan_data, learning_data, map_model_config, mlp_model,\n",
    "                            map_building_config)\n",
    "        loss_history.append(loss)\n",
    "        position_history.append(Position2D.from_vec(np.array(optimized_position)))\n",
    "\n",
    "print(\"Truth position\", laser_data.odometry_position.as_vec())\n",
    "print(\"Init position\", init_optimized_position)\n",
    "print(\"Result position\", optimized_position)"
   ]
  },
  {
   "cell_type": "code",
   "execution_count": null,
   "id": "250d137b",
   "metadata": {},
   "outputs": [],
   "source": [
    "plt.plot(loss_history)\n",
    "print()"
   ]
  },
  {
   "cell_type": "code",
   "execution_count": null,
   "id": "848340df",
   "metadata": {},
   "outputs": [],
   "source": [
    "plt.plot([x[0, 0] for x in hessian_history])"
   ]
  },
  {
   "cell_type": "code",
   "execution_count": null,
   "id": "88de1925",
   "metadata": {},
   "outputs": [],
   "source": [
    "plt.plot([x[2] for x in grad_history])"
   ]
  },
  {
   "cell_type": "code",
   "execution_count": null,
   "id": "28929073",
   "metadata": {},
   "outputs": [],
   "source": [
    "def plot_position_history(position_history):\n",
    "    positions = Position2D.from_array(position_history).as_vec()\n",
    "    plt.plot(positions[:, 0], positions[:, 1])\n",
    "    plt.quiver(positions[:, 0], positions[:, 1], np.cos(positions[:, 2]), np.sin(positions[:, 2]), scale=25)\n",
    "    \n",
    "def plot_position(positions):\n",
    "    plt.quiver(positions[None, 0], positions[None, 1], np.cos(positions[None, 2]), \n",
    "               np.sin(positions[None, 2]), scale=10, color=\"red\")\n",
    "    \n",
    "    \n",
    "def show_points_in_frame(laser_data_list, frame, c=\"yellow\", s=0.3):\n",
    "    all_points = []\n",
    "    for laser_data in laser_data_list:\n",
    "        all_points.append(laser_data.as_points())\n",
    "    points = np.concatenate(all_points, axis=0)\n",
    "    points = frame.apply(points)\n",
    "    plt.scatter(points[:, 0], points[:, 1], s=s, c=c)\n",
    "    plt.gca().set_aspect(\"equal\")\n",
    "    return points"
   ]
  },
  {
   "cell_type": "code",
   "execution_count": null,
   "id": "6a7499df",
   "metadata": {},
   "outputs": [],
   "source": [
    "plt.figure(dpi=200)\n",
    "laser_data = laser_data_list[tracking_index]\n",
    "plot_model_heatmap(map_model, bounds, mlp_model, grid_shape=(1000, 1000), vmin=-value, vmax=value)\n",
    "show_points_in_frame(laser_data_list[tracking_index:tracking_index + 1], \n",
    "                     Position2D.from_vec(np.array(optimized_position)),\n",
    "                     c=\"black\");\n",
    "\n",
    "bounds = (np.min(points[:, 0]) - 1, np.max(points[:, 0]) + 1, np.min(points[:, 1]) - 1, np.max(points[:, 1]) + 1)\n",
    "show_points(laser_data_list[tracking_index:tracking_index + 1])\n",
    "show_points(laser_data_list[learning_index:learning_index + 1], c=\"red\")\n",
    "plot_position(laser_data.odometry_position.as_vec())\n",
    "plot_position_history(position_history)\n",
    "plt.gca().set_aspect('equal')"
   ]
  },
  {
   "cell_type": "code",
   "execution_count": null,
   "id": "8a056a5b",
   "metadata": {},
   "outputs": [],
   "source": [
    "angles = jnp.linspace(-np.pi, np.pi, 1000)\n",
    "optimized_position = jnp.array(laser_data_list[tracking_index].odometry_position.as_vec())\n",
    "positions = [optimized_position + jnp.array([0, 0, x]) for x in angles]\n",
    "laser_data = laser_data_list[tracking_index]\n",
    "scan_data = ScanData.from_laser_data(laser_data)\n",
    "losses = []\n",
    "for position in tqdm.tqdm(positions):\n",
    "#     loss = tracking_loss(map_model, position, scan_data, learning_data, map_model_config, mlp_model, map_building_config)\n",
    "    loss = mapping_loss(map_model, position, scan_data, learning_data, map_model_config, mlp_model, map_building_config)\n",
    "    losses.append(loss)"
   ]
  },
  {
   "cell_type": "code",
   "execution_count": null,
   "id": "1492bdc3",
   "metadata": {},
   "outputs": [],
   "source": [
    "plt.figure(dpi=200)\n",
    "plt.plot(angles, losses)"
   ]
  },
  {
   "cell_type": "code",
   "execution_count": null,
   "id": "199ea714",
   "metadata": {},
   "outputs": [],
   "source": [
    "plt.figure(dpi=200)\n",
    "plt.polar(angles, losses)\n",
    "plt.title(\"Loss function from angle\")"
   ]
  },
  {
   "cell_type": "code",
   "execution_count": null,
   "id": "d1508dec",
   "metadata": {},
   "outputs": [],
   "source": [
    "angles = jnp.linspace(-np.pi, np.pi, 1000)\n",
    "optimized_position = jnp.array(laser_data_list[tracking_index].odometry_position.as_vec())\n",
    "positions = [optimized_position + jnp.array([0, 0, x]) for x in angles]\n",
    "laser_data = laser_data_list[tracking_index]\n",
    "scan_data = ScanData.from_laser_data(laser_data)\n",
    "losses = []\n",
    "for position in tqdm.tqdm(positions):\n",
    "    loss = tracking_loss(map_model, position, scan_data, learning_data, map_model_config, mlp_model, map_building_config)\n",
    "#     loss = mapping_loss(map_model, position, scan_data, learning_data, map_model_config, mlp_model, map_building_config)\n",
    "    losses.append(loss)"
   ]
  },
  {
   "cell_type": "code",
   "execution_count": null,
   "id": "c56eb0ef",
   "metadata": {},
   "outputs": [],
   "source": [
    "plt.figure(dpi=200)\n",
    "plt.plot(angles, losses)"
   ]
  },
  {
   "cell_type": "code",
   "execution_count": null,
   "id": "42c39aca",
   "metadata": {},
   "outputs": [],
   "source": [
    "plt.figure(dpi=200)\n",
    "plt.polar(angles, losses)\n",
    "plt.title(\"Loss function from angle\")"
   ]
  },
  {
   "cell_type": "code",
   "execution_count": null,
   "id": "3b404367",
   "metadata": {},
   "outputs": [],
   "source": [
    "xs = jnp.linspace(-4, 2, 1000)\n",
    "positions = [optimized_position + jnp.array([x, 0, 0]) for x in xs]\n",
    "laser_data = laser_data_list[tracking_index]\n",
    "scan_data = ScanData.from_laser_data(laser_data)\n",
    "losses = []\n",
    "for position in tqdm.tqdm(positions):\n",
    "    loss = mapping_loss(map_model, position, scan_data, learning_data, map_model_config, mlp_model, map_building_config)\n",
    "    losses.append(loss)"
   ]
  },
  {
   "cell_type": "code",
   "execution_count": null,
   "id": "da112201",
   "metadata": {},
   "outputs": [],
   "source": [
    "plt.figure(dpi=200)\n",
    "plt.plot(xs, losses)"
   ]
  },
  {
   "cell_type": "code",
   "execution_count": null,
   "id": "e30d81eb",
   "metadata": {},
   "outputs": [],
   "source": [
    "xs = jnp.linspace(-4, 2, 1000)\n",
    "positions = [optimized_position + jnp.array([x, 0, 0]) for x in xs]\n",
    "laser_data = laser_data_list[tracking_index]\n",
    "scan_data = ScanData.from_laser_data(laser_data)\n",
    "losses = []\n",
    "for position in tqdm.tqdm(positions):\n",
    "    loss = tracking_loss(map_model, position, scan_data, learning_data, map_model_config, mlp_model, map_building_config)\n",
    "    losses.append(loss)"
   ]
  },
  {
   "cell_type": "code",
   "execution_count": null,
   "id": "1ac53416",
   "metadata": {},
   "outputs": [],
   "source": [
    "plt.figure(dpi=200)\n",
    "plt.plot(xs, losses)"
   ]
  },
  {
   "cell_type": "code",
   "execution_count": null,
   "id": "121c6ca1",
   "metadata": {},
   "outputs": [],
   "source": []
  }
 ],
 "metadata": {
  "kernelspec": {
   "display_name": "Python 3 (ipykernel)",
   "language": "python",
   "name": "python3"
  },
  "language_info": {
   "codemirror_mode": {
    "name": "ipython",
    "version": 3
   },
   "file_extension": ".py",
   "mimetype": "text/x-python",
   "name": "python",
   "nbconvert_exporter": "python",
   "pygments_lexer": "ipython3",
   "version": "3.9.12"
  }
 },
 "nbformat": 4,
 "nbformat_minor": 5
}
